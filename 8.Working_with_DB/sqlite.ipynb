{
 "cells": [
  {
   "cell_type": "code",
   "execution_count": 2,
   "metadata": {},
   "outputs": [],
   "source": [
    "import sqlite3"
   ]
  },
  {
   "cell_type": "code",
   "execution_count": 3,
   "metadata": {},
   "outputs": [],
   "source": [
    "connection = sqlite3.connect(\"Example.db\")\n",
    "connection\n",
    "cursor = connection.cursor()"
   ]
  },
  {
   "cell_type": "code",
   "execution_count": 7,
   "metadata": {},
   "outputs": [
    {
     "data": {
      "text/plain": [
       "<sqlite3.Cursor at 0x2e7d4882840>"
      ]
     },
     "execution_count": 7,
     "metadata": {},
     "output_type": "execute_result"
    }
   ],
   "source": [
    "cursor.execute('''\n",
    "CREATE TABLE IF NOT EXISTS employee(\n",
    "    id INTEGER PRIMARY KEY,\n",
    "    name TEXT NOT NULL,\n",
    "    age INTEGER,\n",
    "    department TEXT\n",
    ")\n",
    "''')"
   ]
  },
  {
   "cell_type": "code",
   "execution_count": 8,
   "metadata": {},
   "outputs": [],
   "source": [
    "connection.commit()"
   ]
  },
  {
   "cell_type": "code",
   "execution_count": 9,
   "metadata": {},
   "outputs": [
    {
     "data": {
      "text/plain": [
       "<sqlite3.Cursor at 0x2e7d4882840>"
      ]
     },
     "execution_count": 9,
     "metadata": {},
     "output_type": "execute_result"
    }
   ],
   "source": [
    "cursor.execute('''\n",
    "SELECT * FROM employee\n",
    "''')"
   ]
  },
  {
   "cell_type": "code",
   "execution_count": 12,
   "metadata": {},
   "outputs": [],
   "source": [
    "cursor.execute('''\n",
    "INSERT INTO employee(name,age,department)\n",
    "               values(\"Shay\",23,\"Data Science\")\n",
    "''')\n",
    "cursor.execute('''\n",
    "INSERT INTO employee(name,age,department)\n",
    "               values(\"Shiny\",24,\"Engineer\")\n",
    "''')\n",
    "cursor.execute('''\n",
    "INSERT INTO employee(name,age,department)\n",
    "               values(\"Shekinah\",25,\"SDE\")\n",
    "''')\n",
    "cursor.execute('''\n",
    "INSERT INTO employee(name,age,department)\n",
    "               values(\"She\",26,\"Python developer\")\n",
    "''')\n",
    "\n",
    "connection.commit()"
   ]
  },
  {
   "cell_type": "code",
   "execution_count": 14,
   "metadata": {},
   "outputs": [],
   "source": [
    "cursor.execute('''\n",
    "SELECT * FROM employee\n",
    "''')\n",
    "\n",
    "rows = cursor.fetchall()\n"
   ]
  },
  {
   "cell_type": "code",
   "execution_count": 15,
   "metadata": {},
   "outputs": [
    {
     "name": "stdout",
     "output_type": "stream",
     "text": [
      "(1, 'Shay', 23, 'Data Science')\n",
      "(2, 'Shiny', 24, 'Engineer')\n",
      "(3, 'Shekinah', 25, 'SDE')\n",
      "(4, 'She', 26, 'Python developer')\n"
     ]
    }
   ],
   "source": [
    "for row in rows:\n",
    "    print(row)"
   ]
  },
  {
   "cell_type": "code",
   "execution_count": 16,
   "metadata": {},
   "outputs": [],
   "source": [
    "cursor.execute(\"\"\"\n",
    "UPDATE employee\n",
    "set age = 34\n",
    "where name = 'Shay'\n",
    "\"\"\")\n",
    "connection.commit()"
   ]
  },
  {
   "cell_type": "code",
   "execution_count": 19,
   "metadata": {},
   "outputs": [
    {
     "name": "stdout",
     "output_type": "stream",
     "text": [
      "(1, 'Shay', 34, 'Data Science')\n",
      "(2, 'Shiny', 24, 'Engineer')\n",
      "(3, 'Shekinah', 25, 'SDE')\n",
      "(4, 'She', 26, 'Python developer')\n"
     ]
    }
   ],
   "source": [
    "cursor.execute('''\n",
    "SELECT * FROM employee\n",
    "''')\n",
    "\n",
    "rows = cursor.fetchall()\n",
    "\n",
    "for row in rows:\n",
    "    print(row)"
   ]
  },
  {
   "cell_type": "code",
   "execution_count": 20,
   "metadata": {},
   "outputs": [],
   "source": [
    "cursor.execute('''\n",
    "Delete from employee\n",
    "               Where name = 'Shay'\n",
    "''')\n",
    "connection.commit()"
   ]
  },
  {
   "cell_type": "code",
   "execution_count": 21,
   "metadata": {},
   "outputs": [
    {
     "name": "stdout",
     "output_type": "stream",
     "text": [
      "(2, 'Shiny', 24, 'Engineer')\n",
      "(3, 'Shekinah', 25, 'SDE')\n",
      "(4, 'She', 26, 'Python developer')\n"
     ]
    }
   ],
   "source": [
    "cursor.execute('''\n",
    "SELECT * FROM employee\n",
    "''')\n",
    "\n",
    "rows = cursor.fetchall()\n",
    "\n",
    "for row in rows:\n",
    "    print(row)"
   ]
  },
  {
   "cell_type": "code",
   "execution_count": 25,
   "metadata": {},
   "outputs": [],
   "source": [
    "import sqlite3\n",
    "\n",
    "# Connect to the SQLite database (use a .db file, not .csv)\n",
    "connection = sqlite3.connect('Online_Sales.db')\n",
    "\n",
    "# Create a cursor object\n",
    "cursor = connection.cursor()\n",
    "\n",
    "# Create the sales table\n",
    "cursor.execute(\n",
    "    \"\"\"\n",
    "    CREATE TABLE IF NOT EXISTS sales(\n",
    "        id INTEGER PRIMARY KEY,\n",
    "        date TEXT NOT NULL,\n",
    "        product TEXT NOT NULL,\n",
    "        sales INTEGER,\n",
    "        region TEXT\n",
    "    )\n",
    "    \"\"\"\n",
    ")\n",
    "\n",
    "# Insert into the sales data\n",
    "sales_data = [\n",
    "    ('2023-01-01', 'Product1', 100, 'North'),\n",
    "    ('2023-02-01', 'Product1', 200, 'South'),\n",
    "    ('2023-05-01', 'Product1', 300, 'East'),\n",
    "    ('2023-08-01', 'Product1', 600, 'West'),\n",
    "    ('2023-10-01', 'Product1', 1000, 'North')\n",
    "]\n",
    "\n",
    "cursor.executemany(\n",
    "    '''\n",
    "    INSERT INTO sales(date, product, sales, region)\n",
    "    VALUES (?, ?, ?, ?)\n",
    "    ''', \n",
    "    sales_data\n",
    ")\n",
    "\n",
    "# Commit the changes to the database\n",
    "connection.commit()\n"
   ]
  },
  {
   "cell_type": "code",
   "execution_count": 27,
   "metadata": {},
   "outputs": [
    {
     "name": "stdout",
     "output_type": "stream",
     "text": [
      "(1, '2023-01-01', 'Product1', 100, 'North')\n",
      "(2, '2023-02-01', 'Product1', 200, 'South')\n",
      "(3, '2023-05-01', 'Product1', 300, 'East')\n",
      "(4, '2023-08-01', 'Product1', 600, 'West')\n",
      "(5, '2023-10-01', 'Product1', 1000, 'North')\n"
     ]
    }
   ],
   "source": [
    "cursor.execute('''\n",
    "SELECT * FROM sales\n",
    "''')\n",
    "\n",
    "rows = cursor.fetchall()\n",
    "\n",
    "for row in rows:\n",
    "    print(row)"
   ]
  },
  {
   "cell_type": "code",
   "execution_count": 28,
   "metadata": {},
   "outputs": [],
   "source": [
    "connection.close()"
   ]
  },
  {
   "cell_type": "code",
   "execution_count": null,
   "metadata": {},
   "outputs": [],
   "source": []
  }
 ],
 "metadata": {
  "kernelspec": {
   "display_name": "Python 3",
   "language": "python",
   "name": "python3"
  },
  "language_info": {
   "codemirror_mode": {
    "name": "ipython",
    "version": 3
   },
   "file_extension": ".py",
   "mimetype": "text/x-python",
   "name": "python",
   "nbconvert_exporter": "python",
   "pygments_lexer": "ipython3",
   "version": "3.12.0"
  }
 },
 "nbformat": 4,
 "nbformat_minor": 2
}
