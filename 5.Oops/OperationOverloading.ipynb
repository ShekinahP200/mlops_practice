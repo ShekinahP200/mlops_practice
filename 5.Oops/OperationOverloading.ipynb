{
 "cells": [
  {
   "cell_type": "code",
   "execution_count": 8,
   "metadata": {},
   "outputs": [
    {
     "name": "stdout",
     "output_type": "stream",
     "text": [
      "Vector(6,8)\n"
     ]
    }
   ],
   "source": [
    "#mathematival operation for vectors which is not directly available in python \n",
    "class Vector:\n",
    "    def __init__(self,x,y):\n",
    "        self.x = x \n",
    "        self.y = y \n",
    "    def __add__(self,other):\n",
    "        return Vector(self.x + other.x,self.y + other.y)\n",
    "    \n",
    "    def __sub__(self,other):\n",
    "        return Vector(self.x - other.x,self.y - other.y)\n",
    "    \n",
    "    def __mul__(self,other):\n",
    "        return Vector(self.x * other ,self.y * other )\n",
    "    \n",
    "    def __eq__(self,other):\n",
    "        return self.x == other.x and self.y == other.y\n",
    "    \n",
    "    def __repr__(self):\n",
    "        return f\"Vector({self.x},{self.y})\"\n",
    "\n",
    "#Creating objects of the vector class \n",
    "\n",
    "v1 = Vector(2,3)\n",
    "v2 = Vector(4,5)\n",
    "\n",
    "print(v1+v2)"
   ]
  },
  {
   "cell_type": "code",
   "execution_count": 11,
   "metadata": {},
   "outputs": [
    {
     "name": "stdout",
     "output_type": "stream",
     "text": [
      "3+7i\n",
      "1-1i\n",
      "-10+11i\n",
      "0.8235294117647058-0.29411764705882354i\n",
      "False\n"
     ]
    }
   ],
   "source": [
    "class ComplexNumber:\n",
    "    def __init__(self, real, img):\n",
    "        self.real = real\n",
    "        self.img = img\n",
    "\n",
    "    def __add__(self, other):\n",
    "        return ComplexNumber(self.real + other.real, self.img + other.img)\n",
    "\n",
    "    def __sub__(self, other):\n",
    "        return ComplexNumber(self.real - other.real, self.img - other.img)\n",
    "\n",
    "    def __mul__(self, other):\n",
    "        real_part = self.real * other.real - self.img * other.img\n",
    "        img_part = self.real * other.img + self.img * other.real\n",
    "        return ComplexNumber(real_part, img_part)\n",
    "\n",
    "    def __truediv__(self, other):\n",
    "        denominator = other.real ** 2 + other.img ** 2\n",
    "        real_part = (self.real * other.real + self.img * other.img) / denominator\n",
    "        img_part = (self.img * other.real - self.real * other.img) / denominator\n",
    "        return ComplexNumber(real_part, img_part)\n",
    "\n",
    "    def __eq__(self, other):\n",
    "        return self.real == other.real and self.img == other.img\n",
    "\n",
    "    def __repr__(self):\n",
    "        if self.img >= 0:\n",
    "            return f\"{self.real}+{self.img}i\"\n",
    "        else:\n",
    "            return f\"{self.real}{self.img}i\"\n",
    "\n",
    "# Example usage\n",
    "c1 = ComplexNumber(2, 3)\n",
    "c2 = ComplexNumber(1, 4)\n",
    "\n",
    "print(c1 + c2)  # Output: 3+7i\n",
    "print(c1 - c2)  # Output: 1-1i\n",
    "print(c1 * c2)  # Output: -10+11i\n",
    "print(c1 / c2)  # Output: 0.8235294117647058-0.29411764705882354i\n",
    "print(c1 == c2) # Output: False\n"
   ]
  },
  {
   "cell_type": "code",
   "execution_count": null,
   "metadata": {},
   "outputs": [],
   "source": []
  }
 ],
 "metadata": {
  "kernelspec": {
   "display_name": "Python 3",
   "language": "python",
   "name": "python3"
  },
  "language_info": {
   "codemirror_mode": {
    "name": "ipython",
    "version": 3
   },
   "file_extension": ".py",
   "mimetype": "text/x-python",
   "name": "python",
   "nbconvert_exporter": "python",
   "pygments_lexer": "ipython3",
   "version": "3.12.0"
  }
 },
 "nbformat": 4,
 "nbformat_minor": 2
}
