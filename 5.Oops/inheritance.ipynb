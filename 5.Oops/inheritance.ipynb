{
 "cells": [
  {
   "cell_type": "code",
   "execution_count": 3,
   "metadata": {},
   "outputs": [
    {
     "name": "stdout",
     "output_type": "stream",
     "text": [
      "The person is driving a Petrol Car\n"
     ]
    }
   ],
   "source": [
    "class Car:\n",
    "    def __init__(self,Doors,Windows,EngineType):\n",
    "        self.Doors = Doors\n",
    "        self.Windows = Windows\n",
    "        self.EngineType = EngineType \n",
    "\n",
    "    def drive(self):\n",
    "        print(f\"The person is driving a {self.EngineType} Car\")\n",
    "\n",
    "\n",
    "car1 = Car(4,4,\"Petrol\")\n",
    "car1.drive()"
   ]
  },
  {
   "cell_type": "code",
   "execution_count": 4,
   "metadata": {},
   "outputs": [],
   "source": [
    "class Tesla(Car):\n",
    "    def __init__(self,Windows,Doors,EngineType,is_selfDriving):\n",
    "        super().__init__(Windows,Doors,EngineType)\n",
    "        self.is_selfDriving = is_selfDriving\n",
    "    \n",
    "    def selfDriving(self):\n",
    "        print(f\"Tesla Supports Self Driving Cars : {self.is_selfDriving}\")"
   ]
  },
  {
   "cell_type": "code",
   "execution_count": 6,
   "metadata": {},
   "outputs": [
    {
     "name": "stdout",
     "output_type": "stream",
     "text": [
      "Tesla Supports Self Driving Cars : True\n"
     ]
    }
   ],
   "source": [
    "tesla1 = Tesla(4,5,\"Electric\",True)\n",
    "tesla1.selfDriving()"
   ]
  },
  {
   "cell_type": "code",
   "execution_count": 11,
   "metadata": {},
   "outputs": [
    {
     "name": "stdout",
     "output_type": "stream",
     "text": [
      "The person is driving a Electric Car\n"
     ]
    },
    {
     "data": {
      "text/plain": [
       "5"
      ]
     },
     "execution_count": 11,
     "metadata": {},
     "output_type": "execute_result"
    }
   ],
   "source": [
    "tesla1.drive()\n",
    "tesla1.Windows"
   ]
  },
  {
   "cell_type": "code",
   "execution_count": 15,
   "metadata": {},
   "outputs": [
    {
     "name": "stdout",
     "output_type": "stream",
     "text": [
      "Buddy says Wooffffffff\n"
     ]
    }
   ],
   "source": [
    "### multiple inheritance \n",
    "\n",
    "class Animal:\n",
    "    def __init__(self,name):\n",
    "        self.name = name\n",
    "\n",
    "    def speak(self):\n",
    "        print(\"This is a subclass that must implement the method\")\n",
    "\n",
    "class pet:\n",
    "    def __init__(self,owner):\n",
    "        self.owner = owner\n",
    "\n",
    "class Dog:\n",
    "    def __init__(self,name,owner):\n",
    "        Animal.__init__(self,name)\n",
    "        pet.__init__(self,owner)\n",
    "\n",
    "    def speak(self):\n",
    "        return f\"{self.name} says Wooffffffff\"\n",
    "    \n",
    "dog1 = Dog(\"Buddy\",\"Shay\")\n",
    "print(dog1.speak())"
   ]
  },
  {
   "cell_type": "code",
   "execution_count": null,
   "metadata": {},
   "outputs": [],
   "source": []
  }
 ],
 "metadata": {
  "kernelspec": {
   "display_name": "Python 3",
   "language": "python",
   "name": "python3"
  },
  "language_info": {
   "codemirror_mode": {
    "name": "ipython",
    "version": 3
   },
   "file_extension": ".py",
   "mimetype": "text/x-python",
   "name": "python",
   "nbconvert_exporter": "python",
   "pygments_lexer": "ipython3",
   "version": "3.12.0"
  }
 },
 "nbformat": 4,
 "nbformat_minor": 2
}
